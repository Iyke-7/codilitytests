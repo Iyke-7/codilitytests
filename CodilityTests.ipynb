{
 "cells": [
  {
   "cell_type": "code",
   "execution_count": 2,
   "metadata": {},
   "outputs": [
    {
     "name": "stdout",
     "output_type": "stream",
     "text": [
      "The maximum number of consecutive zeros surrounded by ones in the binary representation of 83 is 2.\n"
     ]
    }
   ],
   "source": [
    "def solution(n):\n",
    "    b=bin(n)[2:]\n",
    "    s1=False\n",
    "    tz=0 # temp zeros\n",
    "    mz=0 # max zeros \n",
    "    for e in b:\n",
    "        if e=='1':\n",
    "            mz=max(tz,mz)\n",
    "            tz=0\n",
    "            s1=True\n",
    "        else:\n",
    "            if(s1==True):\n",
    "                tz+=1\n",
    "            \n",
    "            \n",
    "    return mz\n",
    "\n",
    "def main():\n",
    "    try:\n",
    "        n = int (input(\"Enter a number: \"))\n",
    "        result = solution(n)\n",
    "        print(f\"The maximum number of consecutive zeros surrounded by ones in the binary representation of {n} is {result}.\")\n",
    "    except ValueError:\n",
    "        print(\"Please enter a valid integer.\")\n",
    "        \n",
    "if __name__ == \"__main__\":\n",
    "    main()\n",
    "              "
   ]
  },
  {
   "cell_type": "code",
   "execution_count": 3,
   "metadata": {},
   "outputs": [
    {
     "name": "stdout",
     "output_type": "stream",
     "text": [
      "1001111\n",
      "The maximum number of consecutive zeros surrounded by ones in the binary representation of 79 is 2\n"
     ]
    }
   ],
   "source": [
    "def solution(n):\n",
    "    b = bin(n)[2:]\n",
    "    b = b.strip(\"0\")\n",
    "    l = b.split(\"1\")\n",
    "    print(b)\n",
    "    return len(max(l, key=len))\n",
    "    \n",
    "def main():\n",
    "    try:\n",
    "        n = int(input(\"Enter an integer: \"))\n",
    "        result = solution(n)\n",
    "        print(f\"The maximum number of consecutive zeros surrounded by ones in the binary representation of {n} is {result}\")\n",
    "    except ValueError:\n",
    "        print(\"Please enter a valid integer.\")\n",
    "\n",
    "\n",
    "if __name__ == '__main__':\n",
    "    main()"
   ]
  },
  {
   "cell_type": "code",
   "execution_count": 4,
   "metadata": {},
   "outputs": [],
   "source": [
    "### Cyclic Array Rotation\n",
    "\n",
    "def solution(A, K):\n",
    "    N = len(A)\n",
    "    #B=A.copy()\n",
    "    B = [None] * N\n",
    "    for i in range(0, N):\n",
    "        B[(i+K)%N] = A[i]\n",
    "    return B\n",
    "    pass\n"
   ]
  },
  {
   "cell_type": "code",
   "execution_count": 5,
   "metadata": {},
   "outputs": [
    {
     "name": "stdout",
     "output_type": "stream",
     "text": [
      "Original Array: [3, 8, 9, 7, 6]\n",
      "Rotated Array: [7, 6, 3, 8, 9]\n"
     ]
    }
   ],
   "source": [
    "def cyclic_array_rotation(A, K):\n",
    "    N = len(A)\n",
    "    B = [None] * N\n",
    "    for i in range(0, N):\n",
    "        B[(i+K) % N] = A[i]\n",
    "    \n",
    "    print(\"Original Array:\", A)\n",
    "    print(\"Rotated Array:\", B)\n",
    "    \n",
    "    return B\n",
    "\n",
    "# Example usage\n",
    "A = [3, 8, 9, 7, 6]\n",
    "K = 2\n",
    "result = cyclic_array_rotation(A, K)"
   ]
  },
  {
   "cell_type": "code",
   "execution_count": 6,
   "metadata": {},
   "outputs": [],
   "source": [
    "### Odd Occurrences\n",
    "\n",
    "def solution(A):\n",
    "    if len(A)==1:\n",
    "        return A[0]\n",
    "    A.sort()\n",
    "    for i in range (0, len(A)-1, 2):\n",
    "        if A[i]!=A[i+1]:\n",
    "            return A[i]\n",
    "    return A[-1]\n",
    "    pass"
   ]
  },
  {
   "cell_type": "code",
   "execution_count": 7,
   "metadata": {},
   "outputs": [
    {
     "name": "stdout",
     "output_type": "stream",
     "text": [
      "Unpaired Element: 4\n"
     ]
    }
   ],
   "source": [
    "def find_unpaired_element(A):\n",
    "    if len(A) == 1:\n",
    "        return A[0]\n",
    "    \n",
    "    A.sort()\n",
    "    for i in range(0, len(A) - 1, 2):\n",
    "        if A[i] != A[i + 1]:\n",
    "            return A[i]\n",
    "    \n",
    "    return A[-1]\n",
    "\n",
    "# Example usage\n",
    "A = [2, 4, 3, 2, 3]\n",
    "unpaired_element = find_unpaired_element(A)\n",
    "print(\"Unpaired Element:\", unpaired_element)"
   ]
  },
  {
   "cell_type": "code",
   "execution_count": 9,
   "metadata": {},
   "outputs": [],
   "source": [
    "### Frog Jump\n",
    "\n",
    "def solution(X,Y,D):\n",
    "    v = (Y-X) // D\n",
    "    if X+v*D >= Y:\n",
    "        return v\n",
    "    else:\n",
    "        return v+1\n",
    "    pass\n"
   ]
  },
  {
   "cell_type": "code",
   "execution_count": null,
   "metadata": {},
   "outputs": [],
   "source": []
  }
 ],
 "metadata": {
  "kernelspec": {
   "display_name": "base",
   "language": "python",
   "name": "python3"
  },
  "language_info": {
   "codemirror_mode": {
    "name": "ipython",
    "version": 3
   },
   "file_extension": ".py",
   "mimetype": "text/x-python",
   "name": "python",
   "nbconvert_exporter": "python",
   "pygments_lexer": "ipython3",
   "version": "2022.10.undefined"
  }
 },
 "nbformat": 4,
 "nbformat_minor": 2
}
